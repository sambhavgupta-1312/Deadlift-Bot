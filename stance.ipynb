{
 "cells": [
  {
   "cell_type": "code",
   "execution_count": 25,
   "metadata": {},
   "outputs": [
    {
     "name": "stdout",
     "output_type": "stream",
     "text": [
      "WARNING:tensorflow:From C:\\Users\\hp\\AppData\\Roaming\\Python\\Python311\\site-packages\\keras\\src\\losses.py:2976: The name tf.losses.sparse_softmax_cross_entropy is deprecated. Please use tf.compat.v1.losses.sparse_softmax_cross_entropy instead.\n",
      "\n"
     ]
    }
   ],
   "source": [
    "import mediapipe as mp\n",
    "import cv2\n",
    "import numpy as np"
   ]
  },
  {
   "cell_type": "code",
   "execution_count": 26,
   "metadata": {},
   "outputs": [],
   "source": [
    "mp_drawing=mp.solutions.drawing_utils\n",
    "mp_drawing_styles=mp.solutions.drawing_styles\n",
    "mp_pose=mp.solutions.pose"
   ]
  },
  {
   "cell_type": "code",
   "execution_count": 3,
   "metadata": {},
   "outputs": [],
   "source": [
    "cap = cv2.VideoCapture(0)\n",
    "with mp_pose.Pose(\n",
    "    min_detection_confidence=0.5,\n",
    "    min_tracking_confidence=0.5) as pose:\n",
    "  while cap.isOpened():\n",
    "    success, image = cap.read()\n",
    "    if not success:\n",
    "      print(\"Ignoring empty camera frame.\")\n",
    "      # If loading a video, use 'break' instead of 'continue'.\n",
    "      continue\n",
    "    # To improve performance, optionally mark the image as not writeable to\n",
    "    # pass by reference.\n",
    "    image.flags.writeable = False\n",
    "    image = cv2.cvtColor(image, cv2.COLOR_BGR2RGB)\n",
    "    results = pose.process(image)\n",
    "\n",
    "    image.flags.writeable = True\n",
    "    image = cv2.cvtColor(image, cv2.COLOR_RGB2BGR)\n",
    "\n",
    "    mp_drawing.draw_landmarks(\n",
    "        image,\n",
    "        results.pose_landmarks,\n",
    "        mp_pose.POSE_CONNECTIONS,\n",
    "        landmark_drawing_spec=mp_drawing_styles\n",
    "        .get_default_pose_landmarks_style())\n",
    "    \n",
    "    cv2.imshow('MediaPipe pose', cv2.flip(image, 1))\n",
    "\n",
    "    k = cv2.waitKey(1) & 0xFF\n",
    "    if(k == 27):\n",
    "        break\n",
    "cap.release()\n",
    "cv2.destroyAllWindows()"
   ]
  },
  {
   "cell_type": "markdown",
   "metadata": {},
   "source": [
    "## Save the video"
   ]
  },
  {
   "cell_type": "code",
   "execution_count": 49,
   "metadata": {},
   "outputs": [],
   "source": [
    "cap=cv2.VideoCapture(0)\n",
    "\n",
    "height=cap.get(cv2.CAP_PROP_FRAME_HEIGHT)\n",
    "width=cap.get(cv2.CAP_PROP_FRAME_WIDTH)\n",
    "fps=cap.get(cv2.CAP_PROP_FPS)\n",
    "\n",
    "videoWritter=cv2.VideoWriter('video_data\\stance1.avi',cv2.VideoWriter_fourcc('P','I','M','1'),fps,( int(width) , int(height) ))\n",
    "\n",
    "while cap.isOpened():\n",
    "    ret,frame=cap.read()\n",
    "\n",
    "    try:\n",
    "        cv2.imshow('pose',frame)\n",
    "        videoWritter.write(frame)\n",
    "    except Exception as e:\n",
    "        break\n",
    "\n",
    "    k = cv2.waitKey(1) & 0xFF\n",
    "    if(k == 27):\n",
    "        break\n",
    "cap.release()\n",
    "videoWritter.release()\n",
    "cv2.destroyAllWindows()"
   ]
  },
  {
   "cell_type": "markdown",
   "metadata": {},
   "source": [
    "## Exporting"
   ]
  },
  {
   "cell_type": "code",
   "execution_count": 50,
   "metadata": {},
   "outputs": [],
   "source": [
    "import csv\n",
    "import os\n",
    "import numpy as np\n",
    "import matplotlib.pyplot as plt"
   ]
  },
  {
   "cell_type": "code",
   "execution_count": 51,
   "metadata": {},
   "outputs": [],
   "source": [
    "landmarks=['class']\n",
    "for i in range(1,33+1):\n",
    "    landmarks+= ['x{}'.format(i), 'y{}'.format(i), 'z{}'.format(i), 'v{}'.format(i)]"
   ]
  },
  {
   "cell_type": "code",
   "execution_count": 52,
   "metadata": {},
   "outputs": [],
   "source": [
    "with open('stance_coords.csv',mode='w',newline='') as f:\n",
    "    csv_writer=csv.writer(f,delimiter=',',quotechar='\"',quoting=csv.QUOTE_MINIMAL)\n",
    "    csv_writer.writerow(landmarks)"
   ]
  },
  {
   "cell_type": "code",
   "execution_count": 53,
   "metadata": {},
   "outputs": [],
   "source": [
    "def export_landmarks(results,stance):\n",
    "    try:\n",
    "        keypoints=np.array([[res.x,res.y,res.z,res.visibility] for res in results.pose_landmarks.landmark]).flatten()\n",
    "        action_array = np.array([stance])\n",
    "        keypoints = np.concatenate((action_array, keypoints))\n",
    "\n",
    "        with open('stance_coords.csv',mode='a',newline='') as f:\n",
    "            csv_writer=csv.writer(f,delimiter=',',quotechar='\"',quoting=csv.QUOTE_MINIMAL)\n",
    "            csv_writer.writerow(keypoints)\n",
    "    except Exception as e:\n",
    "        pass"
   ]
  },
  {
   "cell_type": "code",
   "execution_count": 54,
   "metadata": {},
   "outputs": [],
   "source": [
    "cap=cv2.VideoCapture('stance1.avi')\n",
    "\n",
    "with mp_pose.Pose(\n",
    "    min_detection_confidence=0.5,\n",
    "    min_tracking_confidence=0.5) as pose:\n",
    "  while cap.isOpened():\n",
    "    success, image = cap.read()\n",
    "    if not success:\n",
    "      print(\"Ignoring empty camera frame.\")\n",
    "      continue\n",
    "    image.flags.writeable = False\n",
    "    image = cv2.cvtColor(image, cv2.COLOR_BGR2RGB)\n",
    "    results = pose.process(image)\n",
    "\n",
    "    image.flags.writeable = True\n",
    "    image = cv2.cvtColor(image, cv2.COLOR_RGB2BGR)\n",
    "\n",
    "    mp_drawing.draw_landmarks(\n",
    "        image,\n",
    "        results.pose_landmarks,\n",
    "        mp_pose.POSE_CONNECTIONS,\n",
    "        landmark_drawing_spec=mp_drawing_styles\n",
    "        .get_default_pose_landmarks_style())\n",
    "    \n",
    "    cv2.imshow('pose',image)\n",
    "\n",
    "    k = cv2.waitKey(1) & 0xFF\n",
    "    if(k==97):  #a\n",
    "       export_landmarks(results,'wide')\n",
    "    if(k==115):  #s\n",
    "       export_landmarks(results,'neutral')\n",
    "    if(k==100): #d\n",
    "       export_landmarks(results,'narrow')\n",
    "\n",
    "    if(k == 27):\n",
    "        break\n",
    "cap.release()\n",
    "cv2.destroyAllWindows()"
   ]
  },
  {
   "cell_type": "markdown",
   "metadata": {},
   "source": [
    "## Training Model"
   ]
  },
  {
   "cell_type": "code",
   "execution_count": 55,
   "metadata": {},
   "outputs": [],
   "source": [
    "import pandas as pd\n",
    "from sklearn.model_selection import train_test_split"
   ]
  },
  {
   "cell_type": "code",
   "execution_count": 61,
   "metadata": {},
   "outputs": [],
   "source": [
    "df=pd.read_csv('stance_coords.csv')"
   ]
  },
  {
   "cell_type": "code",
   "execution_count": 62,
   "metadata": {},
   "outputs": [
    {
     "data": {
      "text/plain": [
       "class\n",
       "narrow     366\n",
       "wide       285\n",
       "neutral    222\n",
       "Name: count, dtype: int64"
      ]
     },
     "execution_count": 62,
     "metadata": {},
     "output_type": "execute_result"
    }
   ],
   "source": [
    "df['class'].value_counts()"
   ]
  },
  {
   "cell_type": "code",
   "execution_count": 58,
   "metadata": {},
   "outputs": [
    {
     "data": {
      "text/html": [
       "<div>\n",
       "<style scoped>\n",
       "    .dataframe tbody tr th:only-of-type {\n",
       "        vertical-align: middle;\n",
       "    }\n",
       "\n",
       "    .dataframe tbody tr th {\n",
       "        vertical-align: top;\n",
       "    }\n",
       "\n",
       "    .dataframe thead th {\n",
       "        text-align: right;\n",
       "    }\n",
       "</style>\n",
       "<table border=\"1\" class=\"dataframe\">\n",
       "  <thead>\n",
       "    <tr style=\"text-align: right;\">\n",
       "      <th></th>\n",
       "      <th>class</th>\n",
       "      <th>x1</th>\n",
       "      <th>y1</th>\n",
       "      <th>z1</th>\n",
       "      <th>v1</th>\n",
       "      <th>x2</th>\n",
       "      <th>y2</th>\n",
       "      <th>z2</th>\n",
       "      <th>v2</th>\n",
       "      <th>x3</th>\n",
       "      <th>...</th>\n",
       "      <th>z31</th>\n",
       "      <th>v31</th>\n",
       "      <th>x32</th>\n",
       "      <th>y32</th>\n",
       "      <th>z32</th>\n",
       "      <th>v32</th>\n",
       "      <th>x33</th>\n",
       "      <th>y33</th>\n",
       "      <th>z33</th>\n",
       "      <th>v33</th>\n",
       "    </tr>\n",
       "  </thead>\n",
       "  <tbody>\n",
       "    <tr>\n",
       "      <th>0</th>\n",
       "      <td>wide</td>\n",
       "      <td>0.486891</td>\n",
       "      <td>0.161831</td>\n",
       "      <td>-0.410740</td>\n",
       "      <td>0.999994</td>\n",
       "      <td>0.495311</td>\n",
       "      <td>0.144539</td>\n",
       "      <td>-0.389651</td>\n",
       "      <td>0.999981</td>\n",
       "      <td>0.500011</td>\n",
       "      <td>...</td>\n",
       "      <td>0.263976</td>\n",
       "      <td>0.877584</td>\n",
       "      <td>0.679821</td>\n",
       "      <td>0.944764</td>\n",
       "      <td>0.086859</td>\n",
       "      <td>0.979125</td>\n",
       "      <td>0.302998</td>\n",
       "      <td>0.948523</td>\n",
       "      <td>0.095927</td>\n",
       "      <td>0.982755</td>\n",
       "    </tr>\n",
       "    <tr>\n",
       "      <th>1</th>\n",
       "      <td>wide</td>\n",
       "      <td>0.488632</td>\n",
       "      <td>0.171418</td>\n",
       "      <td>-0.392792</td>\n",
       "      <td>0.999995</td>\n",
       "      <td>0.497058</td>\n",
       "      <td>0.153132</td>\n",
       "      <td>-0.370833</td>\n",
       "      <td>0.999986</td>\n",
       "      <td>0.501180</td>\n",
       "      <td>...</td>\n",
       "      <td>0.270792</td>\n",
       "      <td>0.885091</td>\n",
       "      <td>0.683959</td>\n",
       "      <td>0.945675</td>\n",
       "      <td>0.082152</td>\n",
       "      <td>0.980912</td>\n",
       "      <td>0.304800</td>\n",
       "      <td>0.946145</td>\n",
       "      <td>0.105384</td>\n",
       "      <td>0.984597</td>\n",
       "    </tr>\n",
       "  </tbody>\n",
       "</table>\n",
       "<p>2 rows × 133 columns</p>\n",
       "</div>"
      ],
      "text/plain": [
       "  class        x1        y1        z1        v1        x2        y2        z2  \\\n",
       "0  wide  0.486891  0.161831 -0.410740  0.999994  0.495311  0.144539 -0.389651   \n",
       "1  wide  0.488632  0.171418 -0.392792  0.999995  0.497058  0.153132 -0.370833   \n",
       "\n",
       "         v2        x3  ...       z31       v31       x32       y32       z32  \\\n",
       "0  0.999981  0.500011  ...  0.263976  0.877584  0.679821  0.944764  0.086859   \n",
       "1  0.999986  0.501180  ...  0.270792  0.885091  0.683959  0.945675  0.082152   \n",
       "\n",
       "        v32       x33       y33       z33       v33  \n",
       "0  0.979125  0.302998  0.948523  0.095927  0.982755  \n",
       "1  0.980912  0.304800  0.946145  0.105384  0.984597  \n",
       "\n",
       "[2 rows x 133 columns]"
      ]
     },
     "execution_count": 58,
     "metadata": {},
     "output_type": "execute_result"
    }
   ],
   "source": [
    "df.head(2)"
   ]
  },
  {
   "cell_type": "code",
   "execution_count": 63,
   "metadata": {},
   "outputs": [],
   "source": [
    "x=df.iloc[:,1:]\n",
    "y=df.iloc[:,0]"
   ]
  },
  {
   "cell_type": "markdown",
   "metadata": {},
   "source": [
    "### handling imbalaced"
   ]
  },
  {
   "cell_type": "code",
   "execution_count": 64,
   "metadata": {},
   "outputs": [],
   "source": [
    "from imblearn.over_sampling import SMOTE\n",
    "x,y=SMOTE(random_state=32).fit_resample(x,y)"
   ]
  },
  {
   "cell_type": "code",
   "execution_count": 66,
   "metadata": {},
   "outputs": [],
   "source": [
    "x_train,x_test,y_train,y_test=train_test_split(x,y,test_size=0.3,random_state=32,stratify=y)"
   ]
  },
  {
   "cell_type": "code",
   "execution_count": 67,
   "metadata": {},
   "outputs": [],
   "source": [
    "from sklearn.pipeline import make_pipeline\n",
    "from sklearn.preprocessing import StandardScaler\n",
    "\n",
    "from sklearn.ensemble import RandomForestClassifier,GradientBoostingClassifier"
   ]
  },
  {
   "cell_type": "code",
   "execution_count": 68,
   "metadata": {},
   "outputs": [],
   "source": [
    "pipelines={\n",
    "    'rf': make_pipeline(StandardScaler(),RandomForestClassifier()),\n",
    "    'gb': make_pipeline(StandardScaler(),GradientBoostingClassifier())\n",
    "}"
   ]
  },
  {
   "cell_type": "code",
   "execution_count": 69,
   "metadata": {},
   "outputs": [],
   "source": [
    "fit_models={}\n",
    "for algo,pipeline in pipelines.items():\n",
    "    model=pipeline.fit(x_train,y_train)\n",
    "    fit_models[algo]=model"
   ]
  },
  {
   "cell_type": "code",
   "execution_count": 70,
   "metadata": {},
   "outputs": [],
   "source": [
    "landmarks=[]\n",
    "for val in range(1,33+1):\n",
    "    landmarks += ['x{}'.format(val), 'y{}'.format(val), 'z{}'.format(val), 'v{}'.format(val)]"
   ]
  },
  {
   "cell_type": "code",
   "execution_count": 71,
   "metadata": {},
   "outputs": [],
   "source": [
    "keypoints=np.array([0.4360373616218567,0.26478785276412964,-0.6607211828231812,0.9999974966049194,0.4441344738006592,0.24916169047355652,-0.6336907148361206,0.9999911189079285,0.4497406482696533,0.24935220181941986,-0.6336749792098999,0.9999901652336121,0.45456892251968384,0.2496332973241806,-0.6337651610374451,0.9999900460243225,0.42742958664894104,0.24962657690048218,-0.6321507692337036,0.9999898076057434,0.422477662563324,0.25000011920928955,-0.6322957277297974,0.9999892115592957,0.41860318183898926,0.25014498829841614,-0.6323496699333191,0.9999893307685852,0.4626897871494293,0.257098525762558,-0.4822930693626404,0.999975323677063,0.4136722981929779,0.2581169009208679,-0.480527400970459,0.9999681711196899,0.4476795196533203,0.28475770354270935,-0.6052373051643372,0.9999968409538269,0.4274052083492279,0.28452789783477783,-0.6043713092803955,0.9999964833259583,0.5076010823249817,0.3685709536075592,-0.3927532136440277,0.9999759197235107,0.376088410615921,0.3795548379421234,-0.38380318880081177,0.999902069568634,0.516706109046936,0.5268847942352295,-0.4084544777870178,0.9889070391654968,0.3794488310813904,0.543158233165741,-0.4005517363548279,0.9828525185585022,0.5124207735061646,0.6685745120048523,-0.4906157851219177,0.9651187062263489,0.3756535053253174,0.6928625702857971,-0.4866250157356262,0.9422730207443237,0.5174915194511414,0.7059602737426758,-0.5309696197509766,0.9251753687858582,0.3713611662387848,0.7310739755630493,-0.5307987928390503,0.887118935585022,0.5071402192115784,0.7081703543663025,-0.5543004274368286,0.928005039691925,0.3855089545249939,0.7290276288986206,-0.5596837997436523,0.890435516834259,0.5039002895355225,0.6989316344261169,-0.5006574988365173,0.9154057502746582,0.38834574818611145,0.7185326218605042,-0.5005630254745483,0.8736847043037415,0.4907452464103699,0.5520334243774414,-0.0017842678353190422,0.9999696612358093,0.41634097695350647,0.559161365032196,0.001531944377347827,0.9999473690986633,0.5502486824989319,0.6607305407524109,-0.475755512714386,0.9916160106658936,0.3557720184326172,0.6755240559577942,-0.4120989441871643,0.9881277084350586,0.5320411324501038,0.7981935143470764,-0.0866389125585556,0.9874908328056335,0.3832264542579651,0.8041484951972961,-0.048621080815792084,0.9890920519828796,0.5232718586921692,0.8167591094970703,-0.055673450231552124,0.9150554537773132,0.3938315510749817,0.8190670609474182,-0.019249562174081802,0.8985493779182434,0.5489282608032227,0.8703070878982544,-0.21380701661109924,0.979395866394043,0.3633933663368225,0.8664740920066833,-0.1735038012266159,0.9785320162773132])\n",
    "data=pd.DataFrame([keypoints],columns=landmarks)"
   ]
  },
  {
   "cell_type": "code",
   "execution_count": 72,
   "metadata": {},
   "outputs": [
    {
     "data": {
      "text/plain": [
       "0.31"
      ]
     },
     "execution_count": 72,
     "metadata": {},
     "output_type": "execute_result"
    }
   ],
   "source": [
    "fit_models['rf'].predict_proba(data)[0][0]"
   ]
  },
  {
   "cell_type": "code",
   "execution_count": 73,
   "metadata": {},
   "outputs": [
    {
     "data": {
      "text/plain": [
       "array(['neutral'], dtype=object)"
      ]
     },
     "execution_count": 73,
     "metadata": {},
     "output_type": "execute_result"
    }
   ],
   "source": [
    "fit_models['rf'].predict(data)"
   ]
  },
  {
   "cell_type": "code",
   "execution_count": 74,
   "metadata": {},
   "outputs": [],
   "source": [
    "from sklearn.metrics import accuracy_score,recall_score,precision_score\n",
    "import pickle"
   ]
  },
  {
   "cell_type": "code",
   "execution_count": 75,
   "metadata": {},
   "outputs": [
    {
     "name": "stdout",
     "output_type": "stream",
     "text": [
      "rf 1.0 1.0 1.0\n",
      "gb 1.0 1.0 1.0\n"
     ]
    }
   ],
   "source": [
    "for algo,model in fit_models.items():\n",
    "    y_pred=model.predict(x_test)\n",
    "    print(algo,\n",
    "          accuracy_score(y_test.values,y_pred),\n",
    "          recall_score(y_test.values,y_pred,average='weighted'),\n",
    "          precision_score(y_test.values,y_pred,average='weighted'))"
   ]
  },
  {
   "cell_type": "code",
   "execution_count": 76,
   "metadata": {},
   "outputs": [],
   "source": [
    "pickle.dump(fit_models,open('stance_model.pkl','wb'))"
   ]
  }
 ],
 "metadata": {
  "kernelspec": {
   "display_name": "Python 3",
   "language": "python",
   "name": "python3"
  },
  "language_info": {
   "codemirror_mode": {
    "name": "ipython",
    "version": 3
   },
   "file_extension": ".py",
   "mimetype": "text/x-python",
   "name": "python",
   "nbconvert_exporter": "python",
   "pygments_lexer": "ipython3",
   "version": "3.11.3"
  }
 },
 "nbformat": 4,
 "nbformat_minor": 2
}

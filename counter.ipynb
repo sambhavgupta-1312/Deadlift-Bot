{
 "cells": [
  {
   "cell_type": "code",
   "execution_count": 1,
   "metadata": {},
   "outputs": [
    {
     "name": "stdout",
     "output_type": "stream",
     "text": [
      "WARNING:tensorflow:From C:\\Users\\hp\\AppData\\Roaming\\Python\\Python311\\site-packages\\keras\\src\\losses.py:2976: The name tf.losses.sparse_softmax_cross_entropy is deprecated. Please use tf.compat.v1.losses.sparse_softmax_cross_entropy instead.\n",
      "\n"
     ]
    }
   ],
   "source": [
    "import mediapipe as mp\n",
    "import cv2\n",
    "import numpy as np"
   ]
  },
  {
   "cell_type": "code",
   "execution_count": 2,
   "metadata": {},
   "outputs": [],
   "source": [
    "# mp_drawing = mp.solutions.drawing_utils\n",
    "# mp_drawing_styles = mp.solutions.drawing_styles\n",
    "# mp_holistic = mp.solutions.holistic\n",
    "\n",
    "mp_drawing = mp.solutions.drawing_utils\n",
    "mp_drawing_styles = mp.solutions.drawing_styles\n",
    "mp_pose = mp.solutions.pose\n"
   ]
  },
  {
   "cell_type": "code",
   "execution_count": 7,
   "metadata": {},
   "outputs": [],
   "source": [
    "cap = cv2.VideoCapture(0)\n",
    "with mp_pose.Pose(\n",
    "    min_detection_confidence=0.5,\n",
    "    min_tracking_confidence=0.5) as pose:\n",
    "  while cap.isOpened():\n",
    "    success, image = cap.read()\n",
    "    if not success:\n",
    "      print(\"Ignoring empty camera frame.\")\n",
    "      # If loading a video, use 'break' instead of 'continue'.\n",
    "      continue\n",
    "    # To improve performance, optionally mark the image as not writeable to\n",
    "    # pass by reference.\n",
    "    image.flags.writeable = False\n",
    "    image = cv2.cvtColor(image, cv2.COLOR_BGR2RGB)\n",
    "    results = pose.process(image)\n",
    "\n",
    "    image.flags.writeable = True\n",
    "    image = cv2.cvtColor(image, cv2.COLOR_RGB2BGR)\n",
    "\n",
    "    mp_drawing.draw_landmarks(\n",
    "        image,\n",
    "        results.pose_landmarks,\n",
    "        mp_pose.POSE_CONNECTIONS,\n",
    "        landmark_drawing_spec=mp_drawing_styles\n",
    "        .get_default_pose_landmarks_style())\n",
    "    \n",
    "    cv2.imshow('MediaPipe pose', cv2.flip(image, 1))\n",
    "\n",
    "    k = cv2.waitKey(1) & 0xFF\n",
    "    if(k == 27):\n",
    "        break\n",
    "cap.release()\n",
    "cv2.destroyAllWindows()"
   ]
  },
  {
   "cell_type": "markdown",
   "metadata": {},
   "source": [
    "## SAVE THE VIDEO"
   ]
  },
  {
   "cell_type": "code",
   "execution_count": 25,
   "metadata": {},
   "outputs": [],
   "source": [
    "# import time\n",
    "cap=cv2.VideoCapture(0)\n",
    "\n",
    "height=cap.get(cv2.CAP_PROP_FRAME_HEIGHT)\n",
    "width=cap.get(cv2.CAP_PROP_FRAME_WIDTH)\n",
    "fps=cap.get(cv2.CAP_PROP_FPS)\n",
    "\n",
    "videoWritter=cv2.VideoWriter('deadlift3.avi',cv2.VideoWriter_fourcc('P','I','M','1'),fps,( int(width) , int(height) ))\n",
    "\n",
    "# time.sleep(5)  #to get time to record\n",
    "\n",
    "while cap.isOpened():\n",
    "    ret,frame=cap.read()\n",
    "\n",
    "    try:\n",
    "        cv2.imshow('pose',frame)\n",
    "        videoWritter.write(frame)\n",
    "    except Exception as e:\n",
    "        break\n",
    "\n",
    "    k = cv2.waitKey(1) & 0xFF\n",
    "    if(k == 27):\n",
    "        break\n",
    "cap.release()\n",
    "videoWritter.release()\n",
    "cv2.destroyAllWindows()"
   ]
  },
  {
   "cell_type": "markdown",
   "metadata": {},
   "source": [
    "## export to csv"
   ]
  },
  {
   "cell_type": "code",
   "execution_count": 3,
   "metadata": {},
   "outputs": [],
   "source": [
    "import csv\n",
    "import os\n",
    "import numpy as np\n",
    "import matplotlib.pyplot as plt"
   ]
  },
  {
   "cell_type": "code",
   "execution_count": 6,
   "metadata": {},
   "outputs": [],
   "source": [
    "landmarks= ['class']\n",
    "for val in range(1,33+1):\n",
    "    landmarks += ['x{}'.format(val), 'y{}'.format(val), 'z{}'.format(val), 'v{}'.format(val)]"
   ]
  },
  {
   "cell_type": "code",
   "execution_count": 6,
   "metadata": {},
   "outputs": [
    {
     "data": {
      "text/plain": [
       "['x1',\n",
       " 'y1',\n",
       " 'z1',\n",
       " 'v1',\n",
       " 'x2',\n",
       " 'y2',\n",
       " 'z2',\n",
       " 'v2',\n",
       " 'x3',\n",
       " 'y3',\n",
       " 'z3',\n",
       " 'v3',\n",
       " 'x4',\n",
       " 'y4',\n",
       " 'z4',\n",
       " 'v4',\n",
       " 'x5',\n",
       " 'y5',\n",
       " 'z5',\n",
       " 'v5',\n",
       " 'x6',\n",
       " 'y6',\n",
       " 'z6',\n",
       " 'v6',\n",
       " 'x7',\n",
       " 'y7',\n",
       " 'z7',\n",
       " 'v7',\n",
       " 'x8',\n",
       " 'y8',\n",
       " 'z8',\n",
       " 'v8',\n",
       " 'x9',\n",
       " 'y9',\n",
       " 'z9',\n",
       " 'v9',\n",
       " 'x10',\n",
       " 'y10',\n",
       " 'z10',\n",
       " 'v10',\n",
       " 'x11',\n",
       " 'y11',\n",
       " 'z11',\n",
       " 'v11',\n",
       " 'x12',\n",
       " 'y12',\n",
       " 'z12',\n",
       " 'v12',\n",
       " 'x13',\n",
       " 'y13',\n",
       " 'z13',\n",
       " 'v13',\n",
       " 'x14',\n",
       " 'y14',\n",
       " 'z14',\n",
       " 'v14',\n",
       " 'x15',\n",
       " 'y15',\n",
       " 'z15',\n",
       " 'v15',\n",
       " 'x16',\n",
       " 'y16',\n",
       " 'z16',\n",
       " 'v16',\n",
       " 'x17',\n",
       " 'y17',\n",
       " 'z17',\n",
       " 'v17',\n",
       " 'x18',\n",
       " 'y18',\n",
       " 'z18',\n",
       " 'v18',\n",
       " 'x19',\n",
       " 'y19',\n",
       " 'z19',\n",
       " 'v19',\n",
       " 'x20',\n",
       " 'y20',\n",
       " 'z20',\n",
       " 'v20',\n",
       " 'x21',\n",
       " 'y21',\n",
       " 'z21',\n",
       " 'v21',\n",
       " 'x22',\n",
       " 'y22',\n",
       " 'z22',\n",
       " 'v22',\n",
       " 'x23',\n",
       " 'y23',\n",
       " 'z23',\n",
       " 'v23',\n",
       " 'x24',\n",
       " 'y24',\n",
       " 'z24',\n",
       " 'v24',\n",
       " 'x25',\n",
       " 'y25',\n",
       " 'z25',\n",
       " 'v25',\n",
       " 'x26',\n",
       " 'y26',\n",
       " 'z26',\n",
       " 'v26',\n",
       " 'x27',\n",
       " 'y27',\n",
       " 'z27',\n",
       " 'v27',\n",
       " 'x28',\n",
       " 'y28',\n",
       " 'z28',\n",
       " 'v28',\n",
       " 'x29',\n",
       " 'y29',\n",
       " 'z29',\n",
       " 'v29',\n",
       " 'x30',\n",
       " 'y30',\n",
       " 'z30',\n",
       " 'v30',\n",
       " 'x31',\n",
       " 'y31',\n",
       " 'z31',\n",
       " 'v31',\n",
       " 'x32',\n",
       " 'y32',\n",
       " 'z32',\n",
       " 'v32',\n",
       " 'x33',\n",
       " 'y33',\n",
       " 'z33',\n",
       " 'v33']"
      ]
     },
     "execution_count": 6,
     "metadata": {},
     "output_type": "execute_result"
    }
   ],
   "source": [
    "landmarks[1:]"
   ]
  },
  {
   "cell_type": "code",
   "execution_count": 7,
   "metadata": {},
   "outputs": [],
   "source": [
    "with open('coords.csv',mode='w',newline='') as f:\n",
    "    csv_writer=csv.writer(f,delimiter=',',quotechar='\"',quoting=csv.QUOTE_MINIMAL)\n",
    "    csv_writer.writerow(landmarks)"
   ]
  },
  {
   "cell_type": "code",
   "execution_count": 4,
   "metadata": {},
   "outputs": [],
   "source": [
    "def export_landmarks(results,action):\n",
    "    try:\n",
    "        keypoints=np.array([[res.x,res.y,res.z,res.visibility] for res in results.pose_landmarks.landmark]).flatten()\n",
    "        # keypoints.insert(0,action)\n",
    "        action_array = np.array([action])\n",
    "        # keypoints = np.concatenate((action, keypoints))\n",
    "        keypoints = np.concatenate((action_array, keypoints))\n",
    "\n",
    "        with open('coords.csv',mode='a',newline='') as f:\n",
    "            csv_writer=csv.writer(f,delimiter=',',quotechar='\"',quoting=csv.QUOTE_MINIMAL)\n",
    "            csv_writer.writerow(keypoints)\n",
    "    except Exception as e:\n",
    "        pass"
   ]
  },
  {
   "cell_type": "code",
   "execution_count": 13,
   "metadata": {},
   "outputs": [
    {
     "data": {
      "text/plain": [
       "[x: 0.6494442\n",
       "y: 0.7545261\n",
       "z: -0.9715682\n",
       "visibility: 0.993989\n",
       ", x: 0.6665792\n",
       "y: 0.7009636\n",
       "z: -0.9001519\n",
       "visibility: 0.98985857\n",
       ", x: 0.6817665\n",
       "y: 0.7016314\n",
       "z: -0.90062666\n",
       "visibility: 0.9894662\n",
       ", x: 0.6969081\n",
       "y: 0.70320475\n",
       "z: -0.9009554\n",
       "visibility: 0.9880905\n",
       ", x: 0.6190253\n",
       "y: 0.7019724\n",
       "z: -0.93342334\n",
       "visibility: 0.9929043\n",
       ", x: 0.59862065\n",
       "y: 0.70505136\n",
       "z: -0.93331444\n",
       "visibility: 0.99404484\n",
       ", x: 0.5795046\n",
       "y: 0.7097689\n",
       "z: -0.93402576\n",
       "visibility: 0.9949432\n",
       ", x: 0.7070438\n",
       "y: 0.7296613\n",
       "z: -0.4538955\n",
       "visibility: 0.98499393\n",
       ", x: 0.54733914\n",
       "y: 0.7416616\n",
       "z: -0.59466475\n",
       "visibility: 0.9963555\n",
       ", x: 0.66869545\n",
       "y: 0.8198335\n",
       "z: -0.7989882\n",
       "visibility: 0.99231035\n",
       ", x: 0.617617\n",
       "y: 0.8205092\n",
       "z: -0.8412024\n",
       "visibility: 0.9968509\n",
       ", x: 0.807327\n",
       "y: 1.0187936\n",
       "z: -0.12924191\n",
       "visibility: 0.94083345\n",
       ", x: 0.41152674\n",
       "y: 1.0068864\n",
       "z: -0.37565926\n",
       "visibility: 0.98157346\n",
       ", x: 0.88731605\n",
       "y: 1.3189107\n",
       "z: 0.005479512\n",
       "visibility: 0.04181138\n",
       ", x: 0.27284372\n",
       "y: 1.3725394\n",
       "z: -0.3931254\n",
       "visibility: 0.22785597\n",
       ", x: 0.90160304\n",
       "y: 1.5366874\n",
       "z: -0.44263786\n",
       "visibility: 0.026283277\n",
       ", x: 0.33994526\n",
       "y: 1.6007131\n",
       "z: -0.82175505\n",
       "visibility: 0.05942231\n",
       ", x: 0.93048465\n",
       "y: 1.6081722\n",
       "z: -0.5553593\n",
       "visibility: 0.038731046\n",
       ", x: 0.34666926\n",
       "y: 1.6889789\n",
       "z: -0.9556204\n",
       "visibility: 0.07195573\n",
       ", x: 0.9122262\n",
       "y: 1.5860995\n",
       "z: -0.65524846\n",
       "visibility: 0.053754378\n",
       ", x: 0.37732992\n",
       "y: 1.6583629\n",
       "z: -1.0156767\n",
       "visibility: 0.10893297\n",
       ", x: 0.89311695\n",
       "y: 1.5614927\n",
       "z: -0.50781834\n",
       "visibility: 0.052714117\n",
       ", x: 0.38227803\n",
       "y: 1.6254344\n",
       "z: -0.8612658\n",
       "visibility: 0.1009763\n",
       ", x: 0.73060447\n",
       "y: 1.7557687\n",
       "z: 0.01422892\n",
       "visibility: 0.0005708741\n",
       ", x: 0.46884203\n",
       "y: 1.7691504\n",
       "z: -0.010276829\n",
       "visibility: 0.0005247026\n",
       ", x: 0.74205893\n",
       "y: 2.3426206\n",
       "z: -0.14582773\n",
       "visibility: 0.0023327947\n",
       ", x: 0.49956983\n",
       "y: 2.3468716\n",
       "z: -0.23896113\n",
       "visibility: 0.000869848\n",
       ", x: 0.7661568\n",
       "y: 2.888405\n",
       "z: 0.28036842\n",
       "visibility: 0.00019020867\n",
       ", x: 0.52600443\n",
       "y: 2.8856647\n",
       "z: 0.004771691\n",
       "visibility: 5.4071894e-05\n",
       ", x: 0.76658666\n",
       "y: 2.9728978\n",
       "z: 0.2896713\n",
       "visibility: 0.00014013334\n",
       ", x: 0.5209249\n",
       "y: 2.9719074\n",
       "z: 0.007540689\n",
       "visibility: 9.747923e-05\n",
       ", x: 0.7491721\n",
       "y: 3.0521104\n",
       "z: -0.2603095\n",
       "visibility: 0.00026640596\n",
       ", x: 0.5704179\n",
       "y: 3.0336528\n",
       "z: -0.60293925\n",
       "visibility: 0.000261076\n",
       "]"
      ]
     },
     "execution_count": 13,
     "metadata": {},
     "output_type": "execute_result"
    }
   ],
   "source": [
    "results.pose_landmarks.landmark"
   ]
  },
  {
   "cell_type": "code",
   "execution_count": 18,
   "metadata": {},
   "outputs": [
    {
     "data": {
      "text/plain": [
       "133"
      ]
     },
     "execution_count": 18,
     "metadata": {},
     "output_type": "execute_result"
    }
   ],
   "source": [
    "keypoints=np.array([[res.x,res.y,res.z,res.visibility] for res in results.pose_landmarks.landmark]).flatten()\n",
    "keypoints = np.concatenate((['up'], keypoints))\n",
    "# type(keypoints)\n",
    "len(keypoints)"
   ]
  },
  {
   "cell_type": "code",
   "execution_count": 77,
   "metadata": {},
   "outputs": [],
   "source": [
    "# export_landmarks(results,'up')"
   ]
  },
  {
   "cell_type": "code",
   "execution_count": 13,
   "metadata": {},
   "outputs": [],
   "source": [
    "# import requests\n",
    "# url=requests.get('https://www.youtube.com/watch?v=oQTVgDLE3H8')"
   ]
  },
  {
   "cell_type": "code",
   "execution_count": 6,
   "metadata": {},
   "outputs": [],
   "source": [
    "cap=cv2.VideoCapture('deadlift_youtube.mkv')\n",
    "\n",
    "with mp_pose.Pose(\n",
    "    min_detection_confidence=0.5,\n",
    "    min_tracking_confidence=0.5) as pose:\n",
    "  while cap.isOpened():\n",
    "    success, image = cap.read()\n",
    "    if not success:\n",
    "      print(\"Ignoring empty camera frame.\")\n",
    "      # If loading a video, use 'break' instead of 'continue'.\n",
    "      continue\n",
    "    # To improve performance, optionally mark the image as not writeable to\n",
    "    # pass by reference.\n",
    "    image.flags.writeable = False\n",
    "    image = cv2.cvtColor(image, cv2.COLOR_BGR2RGB)\n",
    "    results = pose.process(image)\n",
    "\n",
    "    image.flags.writeable = True\n",
    "    image = cv2.cvtColor(image, cv2.COLOR_RGB2BGR)\n",
    "\n",
    "    mp_drawing.draw_landmarks(\n",
    "        image,\n",
    "        results.pose_landmarks,\n",
    "        mp_pose.POSE_CONNECTIONS,\n",
    "        landmark_drawing_spec=mp_drawing_styles\n",
    "        .get_default_pose_landmarks_style())\n",
    "    \n",
    "    cv2.imshow('pose',image)\n",
    "\n",
    "    k = cv2.waitKey(1) & 0xFF\n",
    "    if(k==117):\n",
    "       export_landmarks(results,'up')\n",
    "    if(k==100):\n",
    "       export_landmarks(results,'down')\n",
    "\n",
    "    if(k == 27):\n",
    "        break\n",
    "cap.release()\n",
    "cv2.destroyAllWindows()"
   ]
  },
  {
   "cell_type": "markdown",
   "metadata": {},
   "source": [
    "## Training model"
   ]
  },
  {
   "cell_type": "code",
   "execution_count": 7,
   "metadata": {},
   "outputs": [],
   "source": [
    "import pandas as pd\n",
    "from sklearn.model_selection import train_test_split"
   ]
  },
  {
   "cell_type": "code",
   "execution_count": 8,
   "metadata": {},
   "outputs": [],
   "source": [
    "df=pd.read_csv('coords.csv')"
   ]
  },
  {
   "cell_type": "code",
   "execution_count": 9,
   "metadata": {},
   "outputs": [
    {
     "data": {
      "text/html": [
       "<div>\n",
       "<style scoped>\n",
       "    .dataframe tbody tr th:only-of-type {\n",
       "        vertical-align: middle;\n",
       "    }\n",
       "\n",
       "    .dataframe tbody tr th {\n",
       "        vertical-align: top;\n",
       "    }\n",
       "\n",
       "    .dataframe thead th {\n",
       "        text-align: right;\n",
       "    }\n",
       "</style>\n",
       "<table border=\"1\" class=\"dataframe\">\n",
       "  <thead>\n",
       "    <tr style=\"text-align: right;\">\n",
       "      <th></th>\n",
       "      <th>class</th>\n",
       "      <th>x1</th>\n",
       "      <th>y1</th>\n",
       "      <th>z1</th>\n",
       "      <th>v1</th>\n",
       "      <th>x2</th>\n",
       "      <th>y2</th>\n",
       "      <th>z2</th>\n",
       "      <th>v2</th>\n",
       "      <th>x3</th>\n",
       "      <th>...</th>\n",
       "      <th>z31</th>\n",
       "      <th>v31</th>\n",
       "      <th>x32</th>\n",
       "      <th>y32</th>\n",
       "      <th>z32</th>\n",
       "      <th>v32</th>\n",
       "      <th>x33</th>\n",
       "      <th>y33</th>\n",
       "      <th>z33</th>\n",
       "      <th>v33</th>\n",
       "    </tr>\n",
       "  </thead>\n",
       "  <tbody>\n",
       "    <tr>\n",
       "      <th>0</th>\n",
       "      <td>down</td>\n",
       "      <td>0.515057</td>\n",
       "      <td>0.395186</td>\n",
       "      <td>-0.727475</td>\n",
       "      <td>0.999997</td>\n",
       "      <td>0.521805</td>\n",
       "      <td>0.375546</td>\n",
       "      <td>-0.706601</td>\n",
       "      <td>0.999993</td>\n",
       "      <td>0.526480</td>\n",
       "      <td>...</td>\n",
       "      <td>-0.131465</td>\n",
       "      <td>0.849788</td>\n",
       "      <td>0.587097</td>\n",
       "      <td>0.945613</td>\n",
       "      <td>-0.336805</td>\n",
       "      <td>0.973085</td>\n",
       "      <td>0.467059</td>\n",
       "      <td>0.939110</td>\n",
       "      <td>-0.320553</td>\n",
       "      <td>0.971849</td>\n",
       "    </tr>\n",
       "    <tr>\n",
       "      <th>1</th>\n",
       "      <td>up</td>\n",
       "      <td>0.523699</td>\n",
       "      <td>0.177072</td>\n",
       "      <td>-0.645990</td>\n",
       "      <td>0.999999</td>\n",
       "      <td>0.530612</td>\n",
       "      <td>0.162935</td>\n",
       "      <td>-0.623680</td>\n",
       "      <td>0.999995</td>\n",
       "      <td>0.535698</td>\n",
       "      <td>...</td>\n",
       "      <td>0.248112</td>\n",
       "      <td>0.888866</td>\n",
       "      <td>0.587239</td>\n",
       "      <td>0.952974</td>\n",
       "      <td>0.050898</td>\n",
       "      <td>0.981093</td>\n",
       "      <td>0.463448</td>\n",
       "      <td>0.953234</td>\n",
       "      <td>0.066995</td>\n",
       "      <td>0.981838</td>\n",
       "    </tr>\n",
       "    <tr>\n",
       "      <th>2</th>\n",
       "      <td>up</td>\n",
       "      <td>0.534107</td>\n",
       "      <td>0.144133</td>\n",
       "      <td>-0.329535</td>\n",
       "      <td>0.999996</td>\n",
       "      <td>0.540609</td>\n",
       "      <td>0.129971</td>\n",
       "      <td>-0.306490</td>\n",
       "      <td>0.999984</td>\n",
       "      <td>0.545452</td>\n",
       "      <td>...</td>\n",
       "      <td>0.209242</td>\n",
       "      <td>0.864538</td>\n",
       "      <td>0.588690</td>\n",
       "      <td>0.953975</td>\n",
       "      <td>0.046054</td>\n",
       "      <td>0.974824</td>\n",
       "      <td>0.460437</td>\n",
       "      <td>0.953376</td>\n",
       "      <td>0.050093</td>\n",
       "      <td>0.977637</td>\n",
       "    </tr>\n",
       "  </tbody>\n",
       "</table>\n",
       "<p>3 rows × 133 columns</p>\n",
       "</div>"
      ],
      "text/plain": [
       "  class        x1        y1        z1        v1        x2        y2        z2  \\\n",
       "0  down  0.515057  0.395186 -0.727475  0.999997  0.521805  0.375546 -0.706601   \n",
       "1    up  0.523699  0.177072 -0.645990  0.999999  0.530612  0.162935 -0.623680   \n",
       "2    up  0.534107  0.144133 -0.329535  0.999996  0.540609  0.129971 -0.306490   \n",
       "\n",
       "         v2        x3  ...       z31       v31       x32       y32       z32  \\\n",
       "0  0.999993  0.526480  ... -0.131465  0.849788  0.587097  0.945613 -0.336805   \n",
       "1  0.999995  0.535698  ...  0.248112  0.888866  0.587239  0.952974  0.050898   \n",
       "2  0.999984  0.545452  ...  0.209242  0.864538  0.588690  0.953975  0.046054   \n",
       "\n",
       "        v32       x33       y33       z33       v33  \n",
       "0  0.973085  0.467059  0.939110 -0.320553  0.971849  \n",
       "1  0.981093  0.463448  0.953234  0.066995  0.981838  \n",
       "2  0.974824  0.460437  0.953376  0.050093  0.977637  \n",
       "\n",
       "[3 rows x 133 columns]"
      ]
     },
     "execution_count": 9,
     "metadata": {},
     "output_type": "execute_result"
    }
   ],
   "source": [
    "df.head(3)"
   ]
  },
  {
   "cell_type": "code",
   "execution_count": 10,
   "metadata": {},
   "outputs": [],
   "source": [
    "x=df.drop('class',axis=1)\n",
    "y=df['class']"
   ]
  },
  {
   "cell_type": "code",
   "execution_count": 11,
   "metadata": {},
   "outputs": [
    {
     "data": {
      "text/html": [
       "<div>\n",
       "<style scoped>\n",
       "    .dataframe tbody tr th:only-of-type {\n",
       "        vertical-align: middle;\n",
       "    }\n",
       "\n",
       "    .dataframe tbody tr th {\n",
       "        vertical-align: top;\n",
       "    }\n",
       "\n",
       "    .dataframe thead th {\n",
       "        text-align: right;\n",
       "    }\n",
       "</style>\n",
       "<table border=\"1\" class=\"dataframe\">\n",
       "  <thead>\n",
       "    <tr style=\"text-align: right;\">\n",
       "      <th></th>\n",
       "      <th>x1</th>\n",
       "      <th>y1</th>\n",
       "      <th>z1</th>\n",
       "      <th>v1</th>\n",
       "      <th>x2</th>\n",
       "      <th>y2</th>\n",
       "      <th>z2</th>\n",
       "      <th>v2</th>\n",
       "      <th>x3</th>\n",
       "      <th>y3</th>\n",
       "      <th>...</th>\n",
       "      <th>z31</th>\n",
       "      <th>v31</th>\n",
       "      <th>x32</th>\n",
       "      <th>y32</th>\n",
       "      <th>z32</th>\n",
       "      <th>v32</th>\n",
       "      <th>x33</th>\n",
       "      <th>y33</th>\n",
       "      <th>z33</th>\n",
       "      <th>v33</th>\n",
       "    </tr>\n",
       "  </thead>\n",
       "  <tbody>\n",
       "    <tr>\n",
       "      <th>0</th>\n",
       "      <td>0.515057</td>\n",
       "      <td>0.395186</td>\n",
       "      <td>-0.727475</td>\n",
       "      <td>0.999997</td>\n",
       "      <td>0.521805</td>\n",
       "      <td>0.375546</td>\n",
       "      <td>-0.706601</td>\n",
       "      <td>0.999993</td>\n",
       "      <td>0.526480</td>\n",
       "      <td>0.375084</td>\n",
       "      <td>...</td>\n",
       "      <td>-0.131465</td>\n",
       "      <td>0.849788</td>\n",
       "      <td>0.587097</td>\n",
       "      <td>0.945613</td>\n",
       "      <td>-0.336805</td>\n",
       "      <td>0.973085</td>\n",
       "      <td>0.467059</td>\n",
       "      <td>0.939110</td>\n",
       "      <td>-0.320553</td>\n",
       "      <td>0.971849</td>\n",
       "    </tr>\n",
       "    <tr>\n",
       "      <th>1</th>\n",
       "      <td>0.523699</td>\n",
       "      <td>0.177072</td>\n",
       "      <td>-0.645990</td>\n",
       "      <td>0.999999</td>\n",
       "      <td>0.530612</td>\n",
       "      <td>0.162935</td>\n",
       "      <td>-0.623680</td>\n",
       "      <td>0.999995</td>\n",
       "      <td>0.535698</td>\n",
       "      <td>0.163112</td>\n",
       "      <td>...</td>\n",
       "      <td>0.248112</td>\n",
       "      <td>0.888866</td>\n",
       "      <td>0.587239</td>\n",
       "      <td>0.952974</td>\n",
       "      <td>0.050898</td>\n",
       "      <td>0.981093</td>\n",
       "      <td>0.463448</td>\n",
       "      <td>0.953234</td>\n",
       "      <td>0.066995</td>\n",
       "      <td>0.981838</td>\n",
       "    </tr>\n",
       "  </tbody>\n",
       "</table>\n",
       "<p>2 rows × 132 columns</p>\n",
       "</div>"
      ],
      "text/plain": [
       "         x1        y1        z1        v1        x2        y2        z2  \\\n",
       "0  0.515057  0.395186 -0.727475  0.999997  0.521805  0.375546 -0.706601   \n",
       "1  0.523699  0.177072 -0.645990  0.999999  0.530612  0.162935 -0.623680   \n",
       "\n",
       "         v2        x3        y3  ...       z31       v31       x32       y32  \\\n",
       "0  0.999993  0.526480  0.375084  ... -0.131465  0.849788  0.587097  0.945613   \n",
       "1  0.999995  0.535698  0.163112  ...  0.248112  0.888866  0.587239  0.952974   \n",
       "\n",
       "        z32       v32       x33       y33       z33       v33  \n",
       "0 -0.336805  0.973085  0.467059  0.939110 -0.320553  0.971849  \n",
       "1  0.050898  0.981093  0.463448  0.953234  0.066995  0.981838  \n",
       "\n",
       "[2 rows x 132 columns]"
      ]
     },
     "execution_count": 11,
     "metadata": {},
     "output_type": "execute_result"
    }
   ],
   "source": [
    "x.head(2)"
   ]
  },
  {
   "cell_type": "code",
   "execution_count": 12,
   "metadata": {},
   "outputs": [
    {
     "data": {
      "text/plain": [
       "0    down\n",
       "1      up\n",
       "Name: class, dtype: object"
      ]
     },
     "execution_count": 12,
     "metadata": {},
     "output_type": "execute_result"
    }
   ],
   "source": [
    "y.head(2)"
   ]
  },
  {
   "cell_type": "code",
   "execution_count": 13,
   "metadata": {},
   "outputs": [],
   "source": [
    "x_train,x_test,y_train,y_test=train_test_split(x,y,test_size=0.3,random_state=32)"
   ]
  },
  {
   "cell_type": "code",
   "execution_count": 14,
   "metadata": {},
   "outputs": [],
   "source": [
    "from sklearn.pipeline import make_pipeline\n",
    "from sklearn.preprocessing import StandardScaler\n",
    "\n",
    "from sklearn.linear_model import LogisticRegression,RidgeClassifier\n",
    "from sklearn.ensemble import RandomForestClassifier,GradientBoostingClassifier"
   ]
  },
  {
   "cell_type": "code",
   "execution_count": 15,
   "metadata": {},
   "outputs": [],
   "source": [
    "pipelines={\n",
    "    'rf':make_pipeline(StandardScaler(),RandomForestClassifier()),\n",
    "    'gb':make_pipeline(StandardScaler(),GradientBoostingClassifier())\n",
    "}"
   ]
  },
  {
   "cell_type": "code",
   "execution_count": 16,
   "metadata": {},
   "outputs": [
    {
     "data": {
      "text/plain": [
       "dict_items([('rf', Pipeline(steps=[('standardscaler', StandardScaler()),\n",
       "                ('randomforestclassifier', RandomForestClassifier())])), ('gb', Pipeline(steps=[('standardscaler', StandardScaler()),\n",
       "                ('gradientboostingclassifier', GradientBoostingClassifier())]))])"
      ]
     },
     "execution_count": 16,
     "metadata": {},
     "output_type": "execute_result"
    }
   ],
   "source": [
    "pipelines.items()"
   ]
  },
  {
   "cell_type": "code",
   "execution_count": 17,
   "metadata": {},
   "outputs": [],
   "source": [
    "fit_models={}\n",
    "for algo,pipeline in pipelines.items():\n",
    "    model=pipeline.fit(x_train,y_train)\n",
    "    fit_models[algo]=model"
   ]
  },
  {
   "cell_type": "code",
   "execution_count": 18,
   "metadata": {},
   "outputs": [
    {
     "data": {
      "text/plain": [
       "{'rf': Pipeline(steps=[('standardscaler', StandardScaler()),\n",
       "                 ('randomforestclassifier', RandomForestClassifier())]),\n",
       " 'gb': Pipeline(steps=[('standardscaler', StandardScaler()),\n",
       "                 ('gradientboostingclassifier', GradientBoostingClassifier())])}"
      ]
     },
     "execution_count": 18,
     "metadata": {},
     "output_type": "execute_result"
    }
   ],
   "source": [
    "fit_models"
   ]
  },
  {
   "cell_type": "code",
   "execution_count": 20,
   "metadata": {},
   "outputs": [],
   "source": [
    "y_pred_rf=fit_models['rf'].predict(x_test)"
   ]
  },
  {
   "cell_type": "code",
   "execution_count": 21,
   "metadata": {},
   "outputs": [],
   "source": [
    "y_pred_gb=fit_models['gb'].predict(x_test)"
   ]
  },
  {
   "cell_type": "code",
   "execution_count": 22,
   "metadata": {},
   "outputs": [],
   "source": [
    "from sklearn.metrics import accuracy_score"
   ]
  },
  {
   "cell_type": "code",
   "execution_count": 23,
   "metadata": {},
   "outputs": [
    {
     "name": "stdout",
     "output_type": "stream",
     "text": [
      "1.0\n",
      "1.0\n"
     ]
    }
   ],
   "source": [
    "print(accuracy_score(y_test,y_pred_rf))\n",
    "print(accuracy_score(y_test,y_pred_gb))"
   ]
  },
  {
   "cell_type": "code",
   "execution_count": null,
   "metadata": {},
   "outputs": [],
   "source": []
  },
  {
   "cell_type": "code",
   "execution_count": null,
   "metadata": {},
   "outputs": [],
   "source": []
  },
  {
   "cell_type": "code",
   "execution_count": null,
   "metadata": {},
   "outputs": [],
   "source": []
  },
  {
   "cell_type": "code",
   "execution_count": null,
   "metadata": {},
   "outputs": [],
   "source": []
  }
 ],
 "metadata": {
  "kernelspec": {
   "display_name": "Python 3",
   "language": "python",
   "name": "python3"
  },
  "language_info": {
   "codemirror_mode": {
    "name": "ipython",
    "version": 3
   },
   "file_extension": ".py",
   "mimetype": "text/x-python",
   "name": "python",
   "nbconvert_exporter": "python",
   "pygments_lexer": "ipython3",
   "version": "3.11.3"
  }
 },
 "nbformat": 4,
 "nbformat_minor": 2
}

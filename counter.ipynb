{
 "cells": [
  {
   "cell_type": "code",
   "execution_count": 5,
   "metadata": {},
   "outputs": [
    {
     "name": "stdout",
     "output_type": "stream",
     "text": [
      "WARNING:tensorflow:From C:\\Users\\hp\\AppData\\Roaming\\Python\\Python311\\site-packages\\keras\\src\\losses.py:2976: The name tf.losses.sparse_softmax_cross_entropy is deprecated. Please use tf.compat.v1.losses.sparse_softmax_cross_entropy instead.\n",
      "\n"
     ]
    }
   ],
   "source": [
    "import mediapipe as mp\n",
    "import cv2\n",
    "import numpy as np"
   ]
  },
  {
   "cell_type": "code",
   "execution_count": 6,
   "metadata": {},
   "outputs": [],
   "source": [
    "# mp_drawing = mp.solutions.drawing_utils\n",
    "# mp_drawing_styles = mp.solutions.drawing_styles\n",
    "# mp_holistic = mp.solutions.holistic\n",
    "\n",
    "mp_drawing = mp.solutions.drawing_utils\n",
    "mp_drawing_styles = mp.solutions.drawing_styles\n",
    "mp_pose = mp.solutions.pose\n"
   ]
  },
  {
   "cell_type": "code",
   "execution_count": 53,
   "metadata": {},
   "outputs": [],
   "source": [
    "cap = cv2.VideoCapture(0)\n",
    "with mp_pose.Pose(\n",
    "    min_detection_confidence=0.5,\n",
    "    min_tracking_confidence=0.5) as pose:\n",
    "  while cap.isOpened():\n",
    "    success, image = cap.read()\n",
    "    if not success:\n",
    "      print(\"Ignoring empty camera frame.\")\n",
    "      # If loading a video, use 'break' instead of 'continue'.\n",
    "      continue\n",
    "    # To improve performance, optionally mark the image as not writeable to\n",
    "    # pass by reference.\n",
    "    image.flags.writeable = False\n",
    "    image = cv2.cvtColor(image, cv2.COLOR_BGR2RGB)\n",
    "    results = pose.process(image)\n",
    "\n",
    "    image.flags.writeable = True\n",
    "    image = cv2.cvtColor(image, cv2.COLOR_RGB2BGR)\n",
    "\n",
    "    mp_drawing.draw_landmarks(\n",
    "        image,\n",
    "        results.pose_landmarks,\n",
    "        mp_pose.POSE_CONNECTIONS,\n",
    "        landmark_drawing_spec=mp_drawing_styles\n",
    "        .get_default_pose_landmarks_style())\n",
    "    \n",
    "    cv2.imshow('MediaPipe pose', cv2.flip(image, 1))\n",
    "\n",
    "    k = cv2.waitKey(1) & 0xFF\n",
    "    if(k == 27):\n",
    "        break\n",
    "cap.release()\n",
    "cv2.destroyAllWindows()"
   ]
  },
  {
   "cell_type": "code",
   "execution_count": 39,
   "metadata": {},
   "outputs": [
    {
     "name": "stdout",
     "output_type": "stream",
     "text": [
      "True\n",
      "False\n",
      "True\n",
      "False\n",
      "False\n",
      "False\n",
      "False\n",
      "False\n",
      "False\n",
      "False\n",
      "False\n",
      "False\n",
      "False\n",
      "False\n",
      "False\n",
      "False\n",
      "False\n",
      "False\n",
      "False\n",
      "False\n",
      "False\n"
     ]
    }
   ],
   "source": [
    "# for i in range(0, 12+1 ):\n",
    "#     print(results.pose_landmarks.landmark[i].visibility >= 0.45)\n",
    "for i in range(12, len(results.pose_landmarks.landmark) ):\n",
    "    print(results.pose_landmarks.landmark[i].visibility >= 0.4)"
   ]
  },
  {
   "cell_type": "markdown",
   "metadata": {},
   "source": [
    "## SAVE THE VIDEO"
   ]
  },
  {
   "cell_type": "code",
   "execution_count": 25,
   "metadata": {},
   "outputs": [],
   "source": [
    "# import time\n",
    "cap=cv2.VideoCapture(0)\n",
    "\n",
    "height=cap.get(cv2.CAP_PROP_FRAME_HEIGHT)\n",
    "width=cap.get(cv2.CAP_PROP_FRAME_WIDTH)\n",
    "fps=cap.get(cv2.CAP_PROP_FPS)\n",
    "\n",
    "videoWritter=cv2.VideoWriter('deadlift3.avi',cv2.VideoWriter_fourcc('P','I','M','1'),fps,( int(width) , int(height) ))\n",
    "\n",
    "# time.sleep(5)  #to get time to record\n",
    "\n",
    "while cap.isOpened():\n",
    "    ret,frame=cap.read()\n",
    "\n",
    "    try:\n",
    "        cv2.imshow('pose',frame)\n",
    "        videoWritter.write(frame)\n",
    "    except Exception as e:\n",
    "        break\n",
    "\n",
    "    k = cv2.waitKey(1) & 0xFF\n",
    "    if(k == 27):\n",
    "        break\n",
    "cap.release()\n",
    "videoWritter.release()\n",
    "cv2.destroyAllWindows()"
   ]
  },
  {
   "cell_type": "markdown",
   "metadata": {},
   "source": [
    "## export to csv"
   ]
  },
  {
   "cell_type": "code",
   "execution_count": 8,
   "metadata": {},
   "outputs": [],
   "source": [
    "import csv\n",
    "import os\n",
    "import numpy as np\n",
    "import matplotlib.pyplot as plt"
   ]
  },
  {
   "cell_type": "code",
   "execution_count": 6,
   "metadata": {},
   "outputs": [],
   "source": [
    "landmarks= ['class']\n",
    "for val in range(1,33+1):\n",
    "    landmarks += ['x{}'.format(val), 'y{}'.format(val), 'z{}'.format(val), 'v{}'.format(val)]"
   ]
  },
  {
   "cell_type": "code",
   "execution_count": 6,
   "metadata": {},
   "outputs": [
    {
     "data": {
      "text/plain": [
       "['x1',\n",
       " 'y1',\n",
       " 'z1',\n",
       " 'v1',\n",
       " 'x2',\n",
       " 'y2',\n",
       " 'z2',\n",
       " 'v2',\n",
       " 'x3',\n",
       " 'y3',\n",
       " 'z3',\n",
       " 'v3',\n",
       " 'x4',\n",
       " 'y4',\n",
       " 'z4',\n",
       " 'v4',\n",
       " 'x5',\n",
       " 'y5',\n",
       " 'z5',\n",
       " 'v5',\n",
       " 'x6',\n",
       " 'y6',\n",
       " 'z6',\n",
       " 'v6',\n",
       " 'x7',\n",
       " 'y7',\n",
       " 'z7',\n",
       " 'v7',\n",
       " 'x8',\n",
       " 'y8',\n",
       " 'z8',\n",
       " 'v8',\n",
       " 'x9',\n",
       " 'y9',\n",
       " 'z9',\n",
       " 'v9',\n",
       " 'x10',\n",
       " 'y10',\n",
       " 'z10',\n",
       " 'v10',\n",
       " 'x11',\n",
       " 'y11',\n",
       " 'z11',\n",
       " 'v11',\n",
       " 'x12',\n",
       " 'y12',\n",
       " 'z12',\n",
       " 'v12',\n",
       " 'x13',\n",
       " 'y13',\n",
       " 'z13',\n",
       " 'v13',\n",
       " 'x14',\n",
       " 'y14',\n",
       " 'z14',\n",
       " 'v14',\n",
       " 'x15',\n",
       " 'y15',\n",
       " 'z15',\n",
       " 'v15',\n",
       " 'x16',\n",
       " 'y16',\n",
       " 'z16',\n",
       " 'v16',\n",
       " 'x17',\n",
       " 'y17',\n",
       " 'z17',\n",
       " 'v17',\n",
       " 'x18',\n",
       " 'y18',\n",
       " 'z18',\n",
       " 'v18',\n",
       " 'x19',\n",
       " 'y19',\n",
       " 'z19',\n",
       " 'v19',\n",
       " 'x20',\n",
       " 'y20',\n",
       " 'z20',\n",
       " 'v20',\n",
       " 'x21',\n",
       " 'y21',\n",
       " 'z21',\n",
       " 'v21',\n",
       " 'x22',\n",
       " 'y22',\n",
       " 'z22',\n",
       " 'v22',\n",
       " 'x23',\n",
       " 'y23',\n",
       " 'z23',\n",
       " 'v23',\n",
       " 'x24',\n",
       " 'y24',\n",
       " 'z24',\n",
       " 'v24',\n",
       " 'x25',\n",
       " 'y25',\n",
       " 'z25',\n",
       " 'v25',\n",
       " 'x26',\n",
       " 'y26',\n",
       " 'z26',\n",
       " 'v26',\n",
       " 'x27',\n",
       " 'y27',\n",
       " 'z27',\n",
       " 'v27',\n",
       " 'x28',\n",
       " 'y28',\n",
       " 'z28',\n",
       " 'v28',\n",
       " 'x29',\n",
       " 'y29',\n",
       " 'z29',\n",
       " 'v29',\n",
       " 'x30',\n",
       " 'y30',\n",
       " 'z30',\n",
       " 'v30',\n",
       " 'x31',\n",
       " 'y31',\n",
       " 'z31',\n",
       " 'v31',\n",
       " 'x32',\n",
       " 'y32',\n",
       " 'z32',\n",
       " 'v32',\n",
       " 'x33',\n",
       " 'y33',\n",
       " 'z33',\n",
       " 'v33']"
      ]
     },
     "execution_count": 6,
     "metadata": {},
     "output_type": "execute_result"
    }
   ],
   "source": [
    "landmarks[1:]"
   ]
  },
  {
   "cell_type": "code",
   "execution_count": 7,
   "metadata": {},
   "outputs": [],
   "source": [
    "with open('coords.csv',mode='w',newline='') as f:\n",
    "    csv_writer=csv.writer(f,delimiter=',',quotechar='\"',quoting=csv.QUOTE_MINIMAL)\n",
    "    csv_writer.writerow(landmarks)"
   ]
  },
  {
   "cell_type": "code",
   "execution_count": 24,
   "metadata": {},
   "outputs": [],
   "source": [
    "def export_landmarks(results,action):\n",
    "    try:\n",
    "        keypoints=np.array([[res.x,res.y,res.z,res.visibility] for res in results.pose_landmarks.landmark]).flatten()\n",
    "        # keypoints.insert(0,action)\n",
    "        action_array = np.array([action])\n",
    "        # keypoints = np.concatenate((action, keypoints))\n",
    "        keypoints = np.concatenate((action_array, keypoints))\n",
    "\n",
    "        with open('coords.csv',mode='a',newline='') as f:\n",
    "            csv_writer=csv.writer(f,delimiter=',',quotechar='\"',quoting=csv.QUOTE_MINIMAL)\n",
    "            csv_writer.writerow(keypoints)\n",
    "    except Exception as e:\n",
    "        pass"
   ]
  },
  {
   "cell_type": "code",
   "execution_count": 5,
   "metadata": {},
   "outputs": [
    {
     "data": {
      "text/plain": [
       "132"
      ]
     },
     "execution_count": 5,
     "metadata": {},
     "output_type": "execute_result"
    }
   ],
   "source": [
    "keypoints=np.array([[res.x,res.y,res.z,res.visibility] for res in results.pose_landmarks.landmark]).flatten()\n",
    "len(keypoints)"
   ]
  },
  {
   "cell_type": "code",
   "execution_count": 6,
   "metadata": {},
   "outputs": [],
   "source": [
    "cap=cv2.VideoCapture('video_data\\deadlift_youtube.mkv')\n",
    "\n",
    "with mp_pose.Pose(\n",
    "    min_detection_confidence=0.5,\n",
    "    min_tracking_confidence=0.5) as pose:\n",
    "  while cap.isOpened():\n",
    "    success, image = cap.read()\n",
    "    if not success:\n",
    "      print(\"Ignoring empty camera frame.\")\n",
    "      # If loading a video, use 'break' instead of 'continue'.\n",
    "      continue\n",
    "    image.flags.writeable = False\n",
    "    image = cv2.cvtColor(image, cv2.COLOR_BGR2RGB)\n",
    "    results = pose.process(image)\n",
    "\n",
    "    image.flags.writeable = True\n",
    "    image = cv2.cvtColor(image, cv2.COLOR_RGB2BGR)\n",
    "\n",
    "    mp_drawing.draw_landmarks(\n",
    "        image,\n",
    "        results.pose_landmarks,\n",
    "        mp_pose.POSE_CONNECTIONS,\n",
    "        landmark_drawing_spec=mp_drawing_styles\n",
    "        .get_default_pose_landmarks_style())\n",
    "    \n",
    "    cv2.imshow('pose',image)\n",
    "\n",
    "    k = cv2.waitKey(1) & 0xFF\n",
    "    if(k==117): #u\n",
    "       export_landmarks(results,'up')\n",
    "    if(k==100): #d\n",
    "       export_landmarks(results,'down')\n",
    "\n",
    "    if(k == 27):\n",
    "        break\n",
    "cap.release()\n",
    "cv2.destroyAllWindows()"
   ]
  },
  {
   "cell_type": "markdown",
   "metadata": {},
   "source": [
    "## Training model"
   ]
  },
  {
   "cell_type": "code",
   "execution_count": 41,
   "metadata": {},
   "outputs": [],
   "source": [
    "import pandas as pd\n",
    "from sklearn.model_selection import train_test_split"
   ]
  },
  {
   "cell_type": "code",
   "execution_count": 42,
   "metadata": {},
   "outputs": [],
   "source": [
    "df=pd.read_csv('coords.csv')"
   ]
  },
  {
   "cell_type": "code",
   "execution_count": 9,
   "metadata": {},
   "outputs": [
    {
     "data": {
      "text/html": [
       "<div>\n",
       "<style scoped>\n",
       "    .dataframe tbody tr th:only-of-type {\n",
       "        vertical-align: middle;\n",
       "    }\n",
       "\n",
       "    .dataframe tbody tr th {\n",
       "        vertical-align: top;\n",
       "    }\n",
       "\n",
       "    .dataframe thead th {\n",
       "        text-align: right;\n",
       "    }\n",
       "</style>\n",
       "<table border=\"1\" class=\"dataframe\">\n",
       "  <thead>\n",
       "    <tr style=\"text-align: right;\">\n",
       "      <th></th>\n",
       "      <th>class</th>\n",
       "      <th>x1</th>\n",
       "      <th>y1</th>\n",
       "      <th>z1</th>\n",
       "      <th>v1</th>\n",
       "      <th>x2</th>\n",
       "      <th>y2</th>\n",
       "      <th>z2</th>\n",
       "      <th>v2</th>\n",
       "      <th>x3</th>\n",
       "      <th>...</th>\n",
       "      <th>z31</th>\n",
       "      <th>v31</th>\n",
       "      <th>x32</th>\n",
       "      <th>y32</th>\n",
       "      <th>z32</th>\n",
       "      <th>v32</th>\n",
       "      <th>x33</th>\n",
       "      <th>y33</th>\n",
       "      <th>z33</th>\n",
       "      <th>v33</th>\n",
       "    </tr>\n",
       "  </thead>\n",
       "  <tbody>\n",
       "    <tr>\n",
       "      <th>0</th>\n",
       "      <td>down</td>\n",
       "      <td>0.515057</td>\n",
       "      <td>0.395186</td>\n",
       "      <td>-0.727475</td>\n",
       "      <td>0.999997</td>\n",
       "      <td>0.521805</td>\n",
       "      <td>0.375546</td>\n",
       "      <td>-0.706601</td>\n",
       "      <td>0.999993</td>\n",
       "      <td>0.526480</td>\n",
       "      <td>...</td>\n",
       "      <td>-0.131465</td>\n",
       "      <td>0.849788</td>\n",
       "      <td>0.587097</td>\n",
       "      <td>0.945613</td>\n",
       "      <td>-0.336805</td>\n",
       "      <td>0.973085</td>\n",
       "      <td>0.467059</td>\n",
       "      <td>0.939110</td>\n",
       "      <td>-0.320553</td>\n",
       "      <td>0.971849</td>\n",
       "    </tr>\n",
       "    <tr>\n",
       "      <th>1</th>\n",
       "      <td>up</td>\n",
       "      <td>0.523699</td>\n",
       "      <td>0.177072</td>\n",
       "      <td>-0.645990</td>\n",
       "      <td>0.999999</td>\n",
       "      <td>0.530612</td>\n",
       "      <td>0.162935</td>\n",
       "      <td>-0.623680</td>\n",
       "      <td>0.999995</td>\n",
       "      <td>0.535698</td>\n",
       "      <td>...</td>\n",
       "      <td>0.248112</td>\n",
       "      <td>0.888866</td>\n",
       "      <td>0.587239</td>\n",
       "      <td>0.952974</td>\n",
       "      <td>0.050898</td>\n",
       "      <td>0.981093</td>\n",
       "      <td>0.463448</td>\n",
       "      <td>0.953234</td>\n",
       "      <td>0.066995</td>\n",
       "      <td>0.981838</td>\n",
       "    </tr>\n",
       "    <tr>\n",
       "      <th>2</th>\n",
       "      <td>up</td>\n",
       "      <td>0.534107</td>\n",
       "      <td>0.144133</td>\n",
       "      <td>-0.329535</td>\n",
       "      <td>0.999996</td>\n",
       "      <td>0.540609</td>\n",
       "      <td>0.129971</td>\n",
       "      <td>-0.306490</td>\n",
       "      <td>0.999984</td>\n",
       "      <td>0.545452</td>\n",
       "      <td>...</td>\n",
       "      <td>0.209242</td>\n",
       "      <td>0.864538</td>\n",
       "      <td>0.588690</td>\n",
       "      <td>0.953975</td>\n",
       "      <td>0.046054</td>\n",
       "      <td>0.974824</td>\n",
       "      <td>0.460437</td>\n",
       "      <td>0.953376</td>\n",
       "      <td>0.050093</td>\n",
       "      <td>0.977637</td>\n",
       "    </tr>\n",
       "  </tbody>\n",
       "</table>\n",
       "<p>3 rows × 133 columns</p>\n",
       "</div>"
      ],
      "text/plain": [
       "  class        x1        y1        z1        v1        x2        y2        z2  \\\n",
       "0  down  0.515057  0.395186 -0.727475  0.999997  0.521805  0.375546 -0.706601   \n",
       "1    up  0.523699  0.177072 -0.645990  0.999999  0.530612  0.162935 -0.623680   \n",
       "2    up  0.534107  0.144133 -0.329535  0.999996  0.540609  0.129971 -0.306490   \n",
       "\n",
       "         v2        x3  ...       z31       v31       x32       y32       z32  \\\n",
       "0  0.999993  0.526480  ... -0.131465  0.849788  0.587097  0.945613 -0.336805   \n",
       "1  0.999995  0.535698  ...  0.248112  0.888866  0.587239  0.952974  0.050898   \n",
       "2  0.999984  0.545452  ...  0.209242  0.864538  0.588690  0.953975  0.046054   \n",
       "\n",
       "        v32       x33       y33       z33       v33  \n",
       "0  0.973085  0.467059  0.939110 -0.320553  0.971849  \n",
       "1  0.981093  0.463448  0.953234  0.066995  0.981838  \n",
       "2  0.974824  0.460437  0.953376  0.050093  0.977637  \n",
       "\n",
       "[3 rows x 133 columns]"
      ]
     },
     "execution_count": 9,
     "metadata": {},
     "output_type": "execute_result"
    }
   ],
   "source": [
    "df.head(3)"
   ]
  },
  {
   "cell_type": "code",
   "execution_count": 43,
   "metadata": {},
   "outputs": [],
   "source": [
    "x=df.drop('class',axis=1)\n",
    "y=df['class']"
   ]
  },
  {
   "cell_type": "code",
   "execution_count": 11,
   "metadata": {},
   "outputs": [
    {
     "data": {
      "text/html": [
       "<div>\n",
       "<style scoped>\n",
       "    .dataframe tbody tr th:only-of-type {\n",
       "        vertical-align: middle;\n",
       "    }\n",
       "\n",
       "    .dataframe tbody tr th {\n",
       "        vertical-align: top;\n",
       "    }\n",
       "\n",
       "    .dataframe thead th {\n",
       "        text-align: right;\n",
       "    }\n",
       "</style>\n",
       "<table border=\"1\" class=\"dataframe\">\n",
       "  <thead>\n",
       "    <tr style=\"text-align: right;\">\n",
       "      <th></th>\n",
       "      <th>x1</th>\n",
       "      <th>y1</th>\n",
       "      <th>z1</th>\n",
       "      <th>v1</th>\n",
       "      <th>x2</th>\n",
       "      <th>y2</th>\n",
       "      <th>z2</th>\n",
       "      <th>v2</th>\n",
       "      <th>x3</th>\n",
       "      <th>y3</th>\n",
       "      <th>...</th>\n",
       "      <th>z31</th>\n",
       "      <th>v31</th>\n",
       "      <th>x32</th>\n",
       "      <th>y32</th>\n",
       "      <th>z32</th>\n",
       "      <th>v32</th>\n",
       "      <th>x33</th>\n",
       "      <th>y33</th>\n",
       "      <th>z33</th>\n",
       "      <th>v33</th>\n",
       "    </tr>\n",
       "  </thead>\n",
       "  <tbody>\n",
       "    <tr>\n",
       "      <th>0</th>\n",
       "      <td>0.515057</td>\n",
       "      <td>0.395186</td>\n",
       "      <td>-0.727475</td>\n",
       "      <td>0.999997</td>\n",
       "      <td>0.521805</td>\n",
       "      <td>0.375546</td>\n",
       "      <td>-0.706601</td>\n",
       "      <td>0.999993</td>\n",
       "      <td>0.526480</td>\n",
       "      <td>0.375084</td>\n",
       "      <td>...</td>\n",
       "      <td>-0.131465</td>\n",
       "      <td>0.849788</td>\n",
       "      <td>0.587097</td>\n",
       "      <td>0.945613</td>\n",
       "      <td>-0.336805</td>\n",
       "      <td>0.973085</td>\n",
       "      <td>0.467059</td>\n",
       "      <td>0.939110</td>\n",
       "      <td>-0.320553</td>\n",
       "      <td>0.971849</td>\n",
       "    </tr>\n",
       "    <tr>\n",
       "      <th>1</th>\n",
       "      <td>0.523699</td>\n",
       "      <td>0.177072</td>\n",
       "      <td>-0.645990</td>\n",
       "      <td>0.999999</td>\n",
       "      <td>0.530612</td>\n",
       "      <td>0.162935</td>\n",
       "      <td>-0.623680</td>\n",
       "      <td>0.999995</td>\n",
       "      <td>0.535698</td>\n",
       "      <td>0.163112</td>\n",
       "      <td>...</td>\n",
       "      <td>0.248112</td>\n",
       "      <td>0.888866</td>\n",
       "      <td>0.587239</td>\n",
       "      <td>0.952974</td>\n",
       "      <td>0.050898</td>\n",
       "      <td>0.981093</td>\n",
       "      <td>0.463448</td>\n",
       "      <td>0.953234</td>\n",
       "      <td>0.066995</td>\n",
       "      <td>0.981838</td>\n",
       "    </tr>\n",
       "  </tbody>\n",
       "</table>\n",
       "<p>2 rows × 132 columns</p>\n",
       "</div>"
      ],
      "text/plain": [
       "         x1        y1        z1        v1        x2        y2        z2  \\\n",
       "0  0.515057  0.395186 -0.727475  0.999997  0.521805  0.375546 -0.706601   \n",
       "1  0.523699  0.177072 -0.645990  0.999999  0.530612  0.162935 -0.623680   \n",
       "\n",
       "         v2        x3        y3  ...       z31       v31       x32       y32  \\\n",
       "0  0.999993  0.526480  0.375084  ... -0.131465  0.849788  0.587097  0.945613   \n",
       "1  0.999995  0.535698  0.163112  ...  0.248112  0.888866  0.587239  0.952974   \n",
       "\n",
       "        z32       v32       x33       y33       z33       v33  \n",
       "0 -0.336805  0.973085  0.467059  0.939110 -0.320553  0.971849  \n",
       "1  0.050898  0.981093  0.463448  0.953234  0.066995  0.981838  \n",
       "\n",
       "[2 rows x 132 columns]"
      ]
     },
     "execution_count": 11,
     "metadata": {},
     "output_type": "execute_result"
    }
   ],
   "source": [
    "x.head(2)"
   ]
  },
  {
   "cell_type": "code",
   "execution_count": 12,
   "metadata": {},
   "outputs": [
    {
     "data": {
      "text/plain": [
       "0    down\n",
       "1      up\n",
       "Name: class, dtype: object"
      ]
     },
     "execution_count": 12,
     "metadata": {},
     "output_type": "execute_result"
    }
   ],
   "source": [
    "y.head(2)"
   ]
  },
  {
   "cell_type": "code",
   "execution_count": 44,
   "metadata": {},
   "outputs": [],
   "source": [
    "x_train,x_test,y_train,y_test=train_test_split(x,y,test_size=0.3,random_state=32)"
   ]
  },
  {
   "cell_type": "code",
   "execution_count": 45,
   "metadata": {},
   "outputs": [],
   "source": [
    "from sklearn.preprocessing import StandardScaler\n",
    "from sklearn.ensemble import RandomForestClassifier"
   ]
  },
  {
   "cell_type": "code",
   "execution_count": 1,
   "metadata": {},
   "outputs": [],
   "source": [
    "# pipelines={\n",
    "#     'rf':make_pipeline(StandardScaler(),RandomForestClassifier()),\n",
    "#     'gb':make_pipeline(StandardScaler(),GradientBoostingClassifier())\n",
    "# }"
   ]
  },
  {
   "cell_type": "code",
   "execution_count": 2,
   "metadata": {},
   "outputs": [],
   "source": [
    "# pipelines.items()"
   ]
  },
  {
   "cell_type": "code",
   "execution_count": 3,
   "metadata": {},
   "outputs": [],
   "source": [
    "# fit_models={}\n",
    "# for algo,pipeline in pipelines.items():\n",
    "#     model=pipeline.fit(x_train,y_train)\n",
    "#     fit_models[algo]=model"
   ]
  },
  {
   "cell_type": "code",
   "execution_count": 4,
   "metadata": {},
   "outputs": [],
   "source": [
    "# fit_models\n",
    "\n",
    "#could have done this for prediction with labels\n",
    "# keypoints=np.array([[res.x,res.y,res.z,res.visibility] for res in results.pose_landmarks.landmark]).flatten()\n",
    "# x=pd.DataFrame([keypoints],columns=landmarks)  #landmarks should contain only keypoints and not class(up/down)\n",
    "# y_pred=fit_models['rf'].predict(x)[0]  "
   ]
  },
  {
   "cell_type": "code",
   "execution_count": 46,
   "metadata": {},
   "outputs": [],
   "source": [
    "scaler=StandardScaler()\n",
    "x_train=scaler.fit_transform(x_train)\n",
    "x_test=scaler.transform(x_test)"
   ]
  },
  {
   "cell_type": "code",
   "execution_count": 47,
   "metadata": {},
   "outputs": [
    {
     "data": {
      "text/html": [
       "<style>#sk-container-id-1 {color: black;}#sk-container-id-1 pre{padding: 0;}#sk-container-id-1 div.sk-toggleable {background-color: white;}#sk-container-id-1 label.sk-toggleable__label {cursor: pointer;display: block;width: 100%;margin-bottom: 0;padding: 0.3em;box-sizing: border-box;text-align: center;}#sk-container-id-1 label.sk-toggleable__label-arrow:before {content: \"▸\";float: left;margin-right: 0.25em;color: #696969;}#sk-container-id-1 label.sk-toggleable__label-arrow:hover:before {color: black;}#sk-container-id-1 div.sk-estimator:hover label.sk-toggleable__label-arrow:before {color: black;}#sk-container-id-1 div.sk-toggleable__content {max-height: 0;max-width: 0;overflow: hidden;text-align: left;background-color: #f0f8ff;}#sk-container-id-1 div.sk-toggleable__content pre {margin: 0.2em;color: black;border-radius: 0.25em;background-color: #f0f8ff;}#sk-container-id-1 input.sk-toggleable__control:checked~div.sk-toggleable__content {max-height: 200px;max-width: 100%;overflow: auto;}#sk-container-id-1 input.sk-toggleable__control:checked~label.sk-toggleable__label-arrow:before {content: \"▾\";}#sk-container-id-1 div.sk-estimator input.sk-toggleable__control:checked~label.sk-toggleable__label {background-color: #d4ebff;}#sk-container-id-1 div.sk-label input.sk-toggleable__control:checked~label.sk-toggleable__label {background-color: #d4ebff;}#sk-container-id-1 input.sk-hidden--visually {border: 0;clip: rect(1px 1px 1px 1px);clip: rect(1px, 1px, 1px, 1px);height: 1px;margin: -1px;overflow: hidden;padding: 0;position: absolute;width: 1px;}#sk-container-id-1 div.sk-estimator {font-family: monospace;background-color: #f0f8ff;border: 1px dotted black;border-radius: 0.25em;box-sizing: border-box;margin-bottom: 0.5em;}#sk-container-id-1 div.sk-estimator:hover {background-color: #d4ebff;}#sk-container-id-1 div.sk-parallel-item::after {content: \"\";width: 100%;border-bottom: 1px solid gray;flex-grow: 1;}#sk-container-id-1 div.sk-label:hover label.sk-toggleable__label {background-color: #d4ebff;}#sk-container-id-1 div.sk-serial::before {content: \"\";position: absolute;border-left: 1px solid gray;box-sizing: border-box;top: 0;bottom: 0;left: 50%;z-index: 0;}#sk-container-id-1 div.sk-serial {display: flex;flex-direction: column;align-items: center;background-color: white;padding-right: 0.2em;padding-left: 0.2em;position: relative;}#sk-container-id-1 div.sk-item {position: relative;z-index: 1;}#sk-container-id-1 div.sk-parallel {display: flex;align-items: stretch;justify-content: center;background-color: white;position: relative;}#sk-container-id-1 div.sk-item::before, #sk-container-id-1 div.sk-parallel-item::before {content: \"\";position: absolute;border-left: 1px solid gray;box-sizing: border-box;top: 0;bottom: 0;left: 50%;z-index: -1;}#sk-container-id-1 div.sk-parallel-item {display: flex;flex-direction: column;z-index: 1;position: relative;background-color: white;}#sk-container-id-1 div.sk-parallel-item:first-child::after {align-self: flex-end;width: 50%;}#sk-container-id-1 div.sk-parallel-item:last-child::after {align-self: flex-start;width: 50%;}#sk-container-id-1 div.sk-parallel-item:only-child::after {width: 0;}#sk-container-id-1 div.sk-dashed-wrapped {border: 1px dashed gray;margin: 0 0.4em 0.5em 0.4em;box-sizing: border-box;padding-bottom: 0.4em;background-color: white;}#sk-container-id-1 div.sk-label label {font-family: monospace;font-weight: bold;display: inline-block;line-height: 1.2em;}#sk-container-id-1 div.sk-label-container {text-align: center;}#sk-container-id-1 div.sk-container {/* jupyter's `normalize.less` sets `[hidden] { display: none; }` but bootstrap.min.css set `[hidden] { display: none !important; }` so we also need the `!important` here to be able to override the default hidden behavior on the sphinx rendered scikit-learn.org. See: https://github.com/scikit-learn/scikit-learn/issues/21755 */display: inline-block !important;position: relative;}#sk-container-id-1 div.sk-text-repr-fallback {display: none;}</style><div id=\"sk-container-id-1\" class=\"sk-top-container\"><div class=\"sk-text-repr-fallback\"><pre>RandomForestClassifier()</pre><b>In a Jupyter environment, please rerun this cell to show the HTML representation or trust the notebook. <br />On GitHub, the HTML representation is unable to render, please try loading this page with nbviewer.org.</b></div><div class=\"sk-container\" hidden><div class=\"sk-item\"><div class=\"sk-estimator sk-toggleable\"><input class=\"sk-toggleable__control sk-hidden--visually\" id=\"sk-estimator-id-1\" type=\"checkbox\" checked><label for=\"sk-estimator-id-1\" class=\"sk-toggleable__label sk-toggleable__label-arrow\">RandomForestClassifier</label><div class=\"sk-toggleable__content\"><pre>RandomForestClassifier()</pre></div></div></div></div></div>"
      ],
      "text/plain": [
       "RandomForestClassifier()"
      ]
     },
     "execution_count": 47,
     "metadata": {},
     "output_type": "execute_result"
    }
   ],
   "source": [
    "rf=RandomForestClassifier()\n",
    "rf.fit(x_train,y_train)"
   ]
  },
  {
   "cell_type": "code",
   "execution_count": 54,
   "metadata": {},
   "outputs": [
    {
     "name": "stderr",
     "output_type": "stream",
     "text": [
      "C:\\Users\\hp\\AppData\\Roaming\\Python\\Python311\\site-packages\\sklearn\\base.py:464: UserWarning: X does not have valid feature names, but StandardScaler was fitted with feature names\n",
      "  warnings.warn(\n"
     ]
    }
   ],
   "source": [
    "keypoints=np.array([[0.5150569677352905,0.3951864242553711,-0.7274754643440247,0.9999974966049194,0.5218051671981812,0.3755461871623993,-0.7066007852554321,0.9999931454658508,0.5264800190925598,0.3750835359096527,-0.7065690159797668,0.9999919533729553,0.5313721895217896,0.3746962249279022,-0.7066744565963745,0.9999926090240479,0.5060329437255859,0.37686029076576233,-0.7048680186271667,0.9999912977218628,0.5004406571388245,0.37752780318260193,-0.7049468159675598,0.9999904036521912,0.4955020844936371,0.37836354970932007,-0.7048987150192261,0.9999909400939941,0.5418556928634644,0.38184258341789246,-0.5662053227424622,0.999981701374054,0.48864617943763733,0.38775911927223206,-0.5589203238487244,0.9999764561653137,0.5242458581924438,0.4148939251899719,-0.6734446287155151,0.9999968409538269,0.5063647031784058,0.4161432385444641,-0.6711441278457642,0.9999958872795105,0.5843213796615601,0.487250417470932,-0.4415043890476227,0.9999622106552124,0.45114296674728394,0.5035907626152039,-0.42975205183029175,0.9998788833618164,0.5972458720207214,0.6267446875572205,-0.451937198638916,0.9859188795089722,0.4496169090270996,0.6516048908233643,-0.43747058510780334,0.9823005199432373,0.6068128347396851,0.7630722522735596,-0.5220409631729126,0.943193793296814,0.44405072927474976,0.7883170247077942,-0.5202982425689697,0.9359166622161865,0.6135327816009521,0.8005720376968384,-0.5638912916183472,0.8695932626724243,0.44082027673721313,0.8282102942466736,-0.5659297108650208,0.8609288334846497,0.6039912104606628,0.8038212656974792,-0.587670624256134,0.8770748376846313,0.45202571153640747,0.827894926071167,-0.5975810289382935,0.8720041513442993,0.5993598699569702,0.7943200469017029,-0.5338295698165894,0.8764537572860718,0.45613712072372437,0.8158248066902161,-0.5365428924560547,0.8753848671913147,0.5558763742446899,0.5881167650222778,-0.003145893570035696,0.9999487996101379,0.4874492585659027,0.5977995991706848,0.0032629123888909817,0.9999323487281799,0.5621702671051025,0.7052590250968933,-0.43392032384872437,0.9667634963989258,0.47558751702308655,0.7125495076179504,-0.3955208659172058,0.9632396101951599,0.5702131390571594,0.873528778553009,-0.16957640647888184,0.9777033925056458,0.4817185401916504,0.8729310631752014,-0.14672167599201202,0.9821701049804688,0.5641920566558838,0.8953845500946045,-0.1525682508945465,0.8698362112045288,0.4930194020271301,0.8977802991867065,-0.13146544992923737,0.8497878313064575,0.5870966911315918,0.9456130266189575,-0.3368050456047058,0.973084568977356,0.4670594334602356,0.9391096234321594,-0.3205529749393463,0.9718490839004517]]).reshape(1,-1)\n",
    "scaled=scaler.transform(keypoints)"
   ]
  },
  {
   "cell_type": "code",
   "execution_count": 57,
   "metadata": {},
   "outputs": [
    {
     "data": {
      "text/plain": [
       "array(['up', 'down', 'up', 'up', 'up', 'down', 'down', 'up', 'down',\n",
       "       'down', 'up', 'up', 'up', 'up', 'up', 'up', 'down', 'up', 'up',\n",
       "       'up', 'up', 'down', 'up', 'up', 'down', 'down', 'up', 'down',\n",
       "       'down', 'up', 'down', 'up', 'up', 'down', 'up', 'up', 'down',\n",
       "       'down', 'up', 'up', 'up', 'down', 'down', 'up', 'up', 'up', 'down',\n",
       "       'up', 'down', 'down', 'up', 'down', 'up', 'down', 'up', 'up', 'up',\n",
       "       'down', 'down', 'up', 'up', 'up', 'up', 'up', 'up', 'up', 'down',\n",
       "       'down', 'up', 'up', 'up', 'down', 'down', 'up', 'up', 'up', 'up',\n",
       "       'up', 'up', 'up', 'up', 'down', 'up', 'up', 'up', 'up', 'up', 'up',\n",
       "       'up', 'up', 'up', 'down', 'down', 'up', 'up', 'up', 'down', 'up',\n",
       "       'up', 'up', 'up', 'down', 'down', 'up', 'up', 'down', 'up', 'up',\n",
       "       'down', 'up', 'up', 'up', 'up', 'up', 'down', 'up', 'up', 'up',\n",
       "       'up', 'up'], dtype=object)"
      ]
     },
     "execution_count": 57,
     "metadata": {},
     "output_type": "execute_result"
    }
   ],
   "source": [
    "rf.predict(x_test)"
   ]
  },
  {
   "cell_type": "code",
   "execution_count": 61,
   "metadata": {},
   "outputs": [
    {
     "data": {
      "text/plain": [
       "array([0., 1.])"
      ]
     },
     "execution_count": 61,
     "metadata": {},
     "output_type": "execute_result"
    }
   ],
   "source": [
    "rf.predict_proba(x_test)[0]"
   ]
  },
  {
   "cell_type": "code",
   "execution_count": 21,
   "metadata": {},
   "outputs": [],
   "source": [
    "# y_pred_gb=fit_models['gb'].predict(x_test)"
   ]
  },
  {
   "cell_type": "code",
   "execution_count": 45,
   "metadata": {},
   "outputs": [],
   "source": [
    "import pickle"
   ]
  },
  {
   "cell_type": "code",
   "execution_count": 46,
   "metadata": {},
   "outputs": [],
   "source": [
    "pickle.dump(rf,open('counter_model.pkl','wb'))"
   ]
  },
  {
   "cell_type": "code",
   "execution_count": 47,
   "metadata": {},
   "outputs": [],
   "source": [
    "pickle.dump(scaler,open('counter_scaler.pkl','wb'))"
   ]
  }
 ],
 "metadata": {
  "kernelspec": {
   "display_name": "Python 3",
   "language": "python",
   "name": "python3"
  },
  "language_info": {
   "codemirror_mode": {
    "name": "ipython",
    "version": 3
   },
   "file_extension": ".py",
   "mimetype": "text/x-python",
   "name": "python",
   "nbconvert_exporter": "python",
   "pygments_lexer": "ipython3",
   "version": "3.11.3"
  }
 },
 "nbformat": 4,
 "nbformat_minor": 2
}
